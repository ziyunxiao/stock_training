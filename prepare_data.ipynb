{
 "cells": [
  {
   "attachments": {},
   "cell_type": "markdown",
   "metadata": {},
   "source": [
    "# Prepare Data"
   ]
  },
  {
   "cell_type": "code",
   "execution_count": 3,
   "metadata": {},
   "outputs": [
    {
     "name": "stdout",
     "output_type": "stream",
     "text": [
      "<class 'pandas.core.frame.DataFrame'>\n",
      "DatetimeIndex: 3064 entries, 2010-01-04 00:00:00-05:00 to 2022-03-04 00:00:00-05:00\n",
      "Data columns (total 10 columns):\n",
      " #   Column        Non-Null Count  Dtype  \n",
      "---  ------        --------------  -----  \n",
      " 0   Open          3064 non-null   float64\n",
      " 1   High          3064 non-null   float64\n",
      " 2   Low           3064 non-null   float64\n",
      " 3   Close         3064 non-null   float64\n",
      " 4   Volume        3064 non-null   int64  \n",
      " 5   Dividends     3064 non-null   float64\n",
      " 6   Stock Splits  3064 non-null   float64\n",
      " 7   MA5           3060 non-null   float64\n",
      " 8   MA10          3055 non-null   float64\n",
      " 9   MA20          3045 non-null   float64\n",
      "dtypes: float64(9), int64(1)\n",
      "memory usage: 263.3 KB\n",
      "None\n",
      "                                 Open        High         Low       Close  \\\n",
      "Date                                                                        \n",
      "2010-01-04 00:00:00-05:00    6.487651    6.520175    6.455734    6.505281   \n",
      "2010-01-05 00:00:00-05:00    6.523214    6.553307    6.482178    6.516527   \n",
      "2010-01-06 00:00:00-05:00    6.516527    6.542365    6.406186    6.412873   \n",
      "2010-01-07 00:00:00-05:00    6.436581    6.444181    6.354509    6.401016   \n",
      "2010-01-08 00:00:00-05:00    6.392506    6.444182    6.354815    6.443573   \n",
      "...                               ...         ...         ...         ...   \n",
      "2022-02-28 00:00:00-05:00  162.078184  164.423975  161.451973  164.125778   \n",
      "2022-03-01 00:00:00-05:00  163.708299  165.596868  160.994741  162.217331   \n",
      "2022-03-02 00:00:00-05:00  163.400181  166.352300  161.968849  165.557114   \n",
      "2022-03-03 00:00:00-05:00  167.455598  167.892951  164.553182  165.229080   \n",
      "2022-03-04 00:00:00-05:00  163.499575  164.553190  161.123966  162.187515   \n",
      "\n",
      "                              Volume  Dividends  Stock Splits         MA5  \\\n",
      "Date                                                                        \n",
      "2010-01-04 00:00:00-05:00  493729600        0.0           0.0         NaN   \n",
      "2010-01-05 00:00:00-05:00  601904800        0.0           0.0         NaN   \n",
      "2010-01-06 00:00:00-05:00  552160000        0.0           0.0         NaN   \n",
      "2010-01-07 00:00:00-05:00  477131200        0.0           0.0         NaN   \n",
      "2010-01-08 00:00:00-05:00  447610800        0.0           0.0    6.455854   \n",
      "...                              ...        ...           ...         ...   \n",
      "2022-02-28 00:00:00-05:00   95056600        0.0           0.0  162.436017   \n",
      "2022-03-01 00:00:00-05:00   83474400        0.0           0.0  162.213364   \n",
      "2022-03-02 00:00:00-05:00   79724800        0.0           0.0  163.503546   \n",
      "2022-03-03 00:00:00-05:00   76678400        0.0           0.0  164.197342   \n",
      "2022-03-04 00:00:00-05:00   83737200        0.0           0.0  163.863364   \n",
      "\n",
      "                                 MA10        MA20  \n",
      "Date                                               \n",
      "2010-01-04 00:00:00-05:00         NaN         NaN  \n",
      "2010-01-05 00:00:00-05:00         NaN         NaN  \n",
      "2010-01-06 00:00:00-05:00         NaN         NaN  \n",
      "2010-01-07 00:00:00-05:00         NaN         NaN  \n",
      "2010-01-08 00:00:00-05:00         NaN         NaN  \n",
      "...                               ...         ...  \n",
      "2022-02-28 00:00:00-05:00  165.745963  169.009277  \n",
      "2022-03-01 00:00:00-05:00  165.181381  168.444816  \n",
      "2022-03-02 00:00:00-05:00  164.562135  168.055782  \n",
      "2022-03-03 00:00:00-05:00  163.933940  167.589294  \n",
      "2022-03-04 00:00:00-05:00  163.366377  167.116658  \n",
      "\n",
      "[3064 rows x 10 columns]\n"
     ]
    }
   ],
   "source": [
    "# generate MA\n",
    "import yfinance as yf\n",
    "import pandas as pd\n",
    "from pprint import pprint\n",
    "\n",
    "# Define the ticker symbol and date range\n",
    "tickerSymbol = 'AAPL'\n",
    "startDate = '2010-01-01'\n",
    "endDate = '2022-03-06'\n",
    "\n",
    "# Get data on this ticker\n",
    "tickerData = yf.Ticker(tickerSymbol)\n",
    "\n",
    "# Get the historical prices for this ticker\n",
    "tickerDf = tickerData.history(start=startDate, end=endDate)\n",
    "\n",
    "# Calculate moving averages\n",
    "ma5 = tickerDf['Close'].rolling(window=5).mean()\n",
    "ma10 = tickerDf['Close'].rolling(window=10).mean()\n",
    "ma20 = tickerDf['Close'].rolling(window=20).mean()\n",
    "\n",
    "# Add moving averages to dataframe\n",
    "tickerDf['MA5'] = ma5\n",
    "tickerDf['MA10'] = ma10\n",
    "tickerDf['MA20'] = ma20\n",
    "\n",
    "print(tickerDf.info())\n",
    "\n",
    "# Print the dataframe\n",
    "pprint(tickerDf)\n"
   ]
  },
  {
   "cell_type": "code",
   "execution_count": 1,
   "metadata": {},
   "outputs": [
    {
     "ename": "TypeError",
     "evalue": "object of type 'MACD' has no len()",
     "output_type": "error",
     "traceback": [
      "\u001b[0;31m---------------------------------------------------------------------------\u001b[0m",
      "\u001b[0;31mTypeError\u001b[0m                                 Traceback (most recent call last)",
      "Cell \u001b[0;32mIn[1], line 29\u001b[0m\n\u001b[1;32m     27\u001b[0m macd \u001b[39m=\u001b[39m ta\u001b[39m.\u001b[39mtrend\u001b[39m.\u001b[39mMACD(tickerDf[\u001b[39m'\u001b[39m\u001b[39mClose\u001b[39m\u001b[39m'\u001b[39m])\n\u001b[1;32m     28\u001b[0m macd_signal \u001b[39m=\u001b[39m macd\u001b[39m.\u001b[39mmacd_signal()\n\u001b[0;32m---> 29\u001b[0m turning_points \u001b[39m=\u001b[39m pd\u001b[39m.\u001b[39mSeries(data\u001b[39m=\u001b[39m[\u001b[39m1\u001b[39m \u001b[39mif\u001b[39;00m macd[i] \u001b[39m>\u001b[39m macd_signal[i] \u001b[39melse\u001b[39;00m \u001b[39m-\u001b[39m\u001b[39m1\u001b[39m \u001b[39mif\u001b[39;00m macd[i] \u001b[39m<\u001b[39m macd_signal[i] \u001b[39melse\u001b[39;00m \u001b[39m0\u001b[39m \u001b[39mfor\u001b[39;00m i \u001b[39min\u001b[39;00m \u001b[39mrange\u001b[39m(\u001b[39mlen\u001b[39;49m(macd))], index\u001b[39m=\u001b[39mmacd\u001b[39m.\u001b[39mindex)\n\u001b[1;32m     30\u001b[0m tickerDf[\u001b[39m'\u001b[39m\u001b[39mTurning Points\u001b[39m\u001b[39m'\u001b[39m] \u001b[39m=\u001b[39m turning_points\n\u001b[1;32m     32\u001b[0m \u001b[39m# Print the dataframe\u001b[39;00m\n",
      "\u001b[0;31mTypeError\u001b[0m: object of type 'MACD' has no len()"
     ]
    }
   ],
   "source": [
    "import yfinance as yf\n",
    "import ta\n",
    "import pandas as pd\n",
    "\n",
    "# Define the ticker symbol and date range\n",
    "tickerSymbol = 'AAPL'\n",
    "startDate = '2010-01-01'\n",
    "endDate = '2022-03-06'\n",
    "\n",
    "# Get data on this ticker\n",
    "tickerData = yf.Ticker(tickerSymbol)\n",
    "\n",
    "# Get the historical prices for this ticker\n",
    "tickerDf = tickerData.history(start=startDate, end=endDate)\n",
    "\n",
    "# Calculate moving averages\n",
    "ma5 = tickerDf['Close'].rolling(window=5).mean()\n",
    "ma10 = tickerDf['Close'].rolling(window=10).mean()\n",
    "ma20 = tickerDf['Close'].rolling(window=20).mean()\n",
    "\n",
    "# Add moving averages to dataframe\n",
    "tickerDf['MA5'] = ma5\n",
    "tickerDf['MA10'] = ma10\n",
    "tickerDf['MA20'] = ma20\n",
    "\n",
    "# Detect turning points\n",
    "macd = ta.trend.MACD(tickerDf['Close'])\n",
    "macd_signal = macd.macd_signal()\n",
    "turning_points = pd.Series(data=[1 if macd[i] > macd_signal[i] else -1 if macd[i] < macd_signal[i] else 0 for i in macd.index], index=macd.index)\n",
    "\n",
    "tickerDf['Turning Points'] = turning_points\n",
    "\n",
    "# Print the dataframe\n",
    "print(tickerDf)\n"
   ]
  }
 ],
 "metadata": {
  "kernelspec": {
   "display_name": ".venv",
   "language": "python",
   "name": "python3"
  },
  "language_info": {
   "codemirror_mode": {
    "name": "ipython",
    "version": 3
   },
   "file_extension": ".py",
   "mimetype": "text/x-python",
   "name": "python",
   "nbconvert_exporter": "python",
   "pygments_lexer": "ipython3",
   "version": "3.10.9"
  },
  "orig_nbformat": 4,
  "vscode": {
   "interpreter": {
    "hash": "c97c462b0626419d733b70d2fb6a54f11a1a33dc6a86e2e46b7401889a8835af"
   }
  }
 },
 "nbformat": 4,
 "nbformat_minor": 2
}
